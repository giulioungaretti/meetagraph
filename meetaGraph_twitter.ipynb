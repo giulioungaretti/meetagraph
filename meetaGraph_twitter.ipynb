{
 "metadata": {
  "name": "",
  "signature": "sha256:60621d10c38a8ae4a324cebd1fab4459be8896a4d0cee4d62eb0350f4fe32862"
 },
 "nbformat": 3,
 "nbformat_minor": 0,
 "worksheets": [
  {
   "cells": [
    {
     "cell_type": "code",
     "collapsed": false,
     "input": [
      "%load_ext autoreload\n",
      "%autoreload 2\n",
      "import time\n",
      "import sys\n",
      "import tweepy\n",
      "from tweepy import Cursor\n",
      "from pycyper  import NeoGraph\n",
      "\n",
      "\n",
      "from connect import connect\n",
      "from tweepy import api\n",
      "\n",
      "api=connect()\n"
     ],
     "language": "python",
     "metadata": {},
     "outputs": [
      {
       "output_type": "stream",
       "stream": "stdout",
       "text": [
        "The autoreload extension is already loaded. To reload it, use:\n",
        "  %reload_ext autoreload\n"
       ]
      }
     ],
     "prompt_number": 33
    },
    {
     "cell_type": "code",
     "collapsed": false,
     "input": [
      "graph  = NeoGraph(api)"
     ],
     "language": "python",
     "metadata": {},
     "outputs": [],
     "prompt_number": 51
    },
    {
     "cell_type": "code",
     "collapsed": false,
     "input": [
      "c = tweepy.Cursor(api.search,q = '*', geocode=\"55,13,50km\") \n",
      "d = [];\n",
      "for tweet in c.items():\n",
      "    d.append(tweet)"
     ],
     "language": "python",
     "metadata": {},
     "outputs": [],
     "prompt_number": 35
    },
    {
     "cell_type": "code",
     "collapsed": false,
     "input": [
      "tw = d[0]"
     ],
     "language": "python",
     "metadata": {},
     "outputs": [],
     "prompt_number": 59
    },
    {
     "cell_type": "code",
     "collapsed": true,
     "input": [
      "usr = api.get_user(tw.user.screen_name)"
     ],
     "language": "python",
     "metadata": {},
     "outputs": [],
     "prompt_number": 57
    },
    {
     "cell_type": "code",
     "collapsed": false,
     "input": [
      "graph.insert_user_with_friends(usr)"
     ],
     "language": "python",
     "metadata": {},
     "outputs": [],
     "prompt_number": 58
    },
    {
     "cell_type": "code",
     "collapsed": false,
     "input": [
      "usr"
     ],
     "language": "python",
     "metadata": {},
     "outputs": [
      {
       "metadata": {},
       "output_type": "pyout",
       "prompt_number": 61,
       "text": [
        "User(follow_request_sent=False, profile_use_background_image=False, _json={u'follow_request_sent': False, u'profile_use_background_image': False, u'profile_text_color': u'000000', u'default_profile_image': False, u'id': 1700125753, u'profile_background_image_url_https': u'https://abs.twimg.com/images/themes/theme1/bg.png', u'verified': False, u'profile_location': None, u'profile_image_url_https': u'https://pbs.twimg.com/profile_images/553309473935470593/WHlGqlHt_normal.jpeg', u'profile_sidebar_fill_color': u'000000', u'entities': {u'description': {u'urls': []}}, u'followers_count': 49, u'profile_sidebar_border_color': u'000000', u'id_str': u'1700125753', u'profile_background_color': u'000000', u'listed_count': 0, u'status': {u'lang': u'sv', u'favorited': False, u'entities': {u'symbols': [], u'user_mentions': [], u'hashtags': [], u'urls': []}, u'contributors': None, u'truncated': False, u'text': u'Standard i familjen Grahn: alla trycker in sig i en soffa f\\xf6r att katten ska f\\xe5 sova ensam i f\\xe5t\\xf6ljen! Bortsk\\xe4md men ack s\\xe5 fin katt. \\U0001f431', u'created_at': u'Sat Feb 21 10:49:18 +0000 2015', u'retweeted': False, u'in_reply_to_status_id_str': None, u'coordinates': {u'type': u'Point', u'coordinates': [12.97213659, 55.41054879]}, u'in_reply_to_user_id_str': None, u'source': u'<a href=\"http://twitter.com/download/iphone\" rel=\"nofollow\">Twitter for iPhone</a>', u'in_reply_to_status_id': None, u'in_reply_to_screen_name': None, u'id_str': u'569086454275706880', u'place': {u'full_name': u'Vellinge, Sverige', u'url': u'https://api.twitter.com/1.1/geo/id/3c329fca985ff924.json', u'country': u'Sverige', u'place_type': u'city', u'bounding_box': {u'type': u'Polygon', u'coordinates': [[[12.6123001, 55.1479002], [13.1806703, 55.1479002], [13.1806703, 55.5245336], [12.6123001, 55.5245336]]]}, u'contained_within': [], u'country_code': u'SE', u'attributes': {}, u'id': u'3c329fca985ff924', u'name': u'Vellinge'}, u'retweet_count': 0, u'geo': {u'type': u'Point', u'coordinates': [55.41054879, 12.97213659]}, u'id': 569086454275706880, u'favorite_count': 1, u'in_reply_to_user_id': None}, u'is_translation_enabled': False, u'utc_offset': None, u'statuses_count': 1932, u'description': u'en pratglad liten skit som \\xe4r f\\xf6r\\xe4lskad i v\\xe4stkusten', u'friends_count': 100, u'location': u'', u'profile_link_color': u'F5ABB5', u'profile_image_url': u'http://pbs.twimg.com/profile_images/553309473935470593/WHlGqlHt_normal.jpeg', u'following': False, u'geo_enabled': True, u'profile_banner_url': u'https://pbs.twimg.com/profile_banners/1700125753/1416865240', u'profile_background_image_url': u'http://abs.twimg.com/images/themes/theme1/bg.png', u'name': u'Cecilia Grahn', u'lang': u'sv', u'profile_background_tile': False, u'favourites_count': 1765, u'screen_name': u'CeciliaGrahn1', u'notifications': False, u'url': None, u'created_at': u'Sun Aug 25 20:28:31 +0000 2013', u'contributors_enabled': False, u'time_zone': None, u'protected': False, u'default_profile': False, u'is_translator': False}, time_zone=None, id=1700125753, description=u'en pratglad liten skit som \\xe4r f\\xf6r\\xe4lskad i v\\xe4stkusten', _api=<tweepy.api.API object at 0x10a00e990>, verified=False, profile_location=None, profile_image_url_https=u'https://pbs.twimg.com/profile_images/553309473935470593/WHlGqlHt_normal.jpeg', profile_sidebar_fill_color=u'000000', is_translator=False, geo_enabled=True, entities={u'description': {u'urls': []}}, followers_count=49, protected=False, id_str=u'1700125753', default_profile_image=False, listed_count=0, status=Status(contributors=None, truncated=False, text=u'Standard i familjen Grahn: alla trycker in sig i en soffa f\\xf6r att katten ska f\\xe5 sova ensam i f\\xe5t\\xf6ljen! Bortsk\\xe4md men ack s\\xe5 fin katt. \\U0001f431', in_reply_to_status_id=None, id=569086454275706880, favorite_count=1, _api=<tweepy.api.API object at 0x10a00e990>, source=u'Twitter for iPhone', _json={u'lang': u'sv', u'favorited': False, u'entities': {u'symbols': [], u'user_mentions': [], u'hashtags': [], u'urls': []}, u'contributors': None, u'truncated': False, u'text': u'Standard i familjen Grahn: alla trycker in sig i en soffa f\\xf6r att katten ska f\\xe5 sova ensam i f\\xe5t\\xf6ljen! Bortsk\\xe4md men ack s\\xe5 fin katt. \\U0001f431', u'created_at': u'Sat Feb 21 10:49:18 +0000 2015', u'retweeted': False, u'in_reply_to_status_id_str': None, u'coordinates': {u'type': u'Point', u'coordinates': [12.97213659, 55.41054879]}, u'in_reply_to_user_id_str': None, u'source': u'<a href=\"http://twitter.com/download/iphone\" rel=\"nofollow\">Twitter for iPhone</a>', u'in_reply_to_status_id': None, u'in_reply_to_screen_name': None, u'id_str': u'569086454275706880', u'place': {u'full_name': u'Vellinge, Sverige', u'url': u'https://api.twitter.com/1.1/geo/id/3c329fca985ff924.json', u'country': u'Sverige', u'place_type': u'city', u'bounding_box': {u'type': u'Polygon', u'coordinates': [[[12.6123001, 55.1479002], [13.1806703, 55.1479002], [13.1806703, 55.5245336], [12.6123001, 55.5245336]]]}, u'contained_within': [], u'country_code': u'SE', u'attributes': {}, u'id': u'3c329fca985ff924', u'name': u'Vellinge'}, u'retweet_count': 0, u'geo': {u'type': u'Point', u'coordinates': [55.41054879, 12.97213659]}, u'id': 569086454275706880, u'favorite_count': 1, u'in_reply_to_user_id': None}, coordinates={u'type': u'Point', u'coordinates': [12.97213659, 55.41054879]}, entities={u'symbols': [], u'user_mentions': [], u'hashtags': [], u'urls': []}, in_reply_to_screen_name=None, id_str=u'569086454275706880', retweet_count=0, in_reply_to_user_id=None, favorited=False, source_url=u'http://twitter.com/download/iphone', geo={u'type': u'Point', u'coordinates': [55.41054879, 12.97213659]}, in_reply_to_user_id_str=None, lang=u'sv', created_at=datetime.datetime(2015, 2, 21, 10, 49, 18), in_reply_to_status_id_str=None, place=Place(_api=<tweepy.api.API object at 0x10a00e990>, country_code=u'SE', url=u'https://api.twitter.com/1.1/geo/id/3c329fca985ff924.json', country=u'Sverige', place_type=u'city', bounding_box=BoundingBox(_api=<tweepy.api.API object at 0x10a00e990>, type=u'Polygon', coordinates=[[[12.6123001, 55.1479002], [13.1806703, 55.1479002], [13.1806703, 55.5245336], [12.6123001, 55.5245336]]]), contained_within=[], full_name=u'Vellinge, Sverige', attributes={}, id=u'3c329fca985ff924', name=u'Vellinge'), retweeted=False), lang=u'sv', utc_offset=None, statuses_count=1932, profile_background_color=u'000000', friends_count=100, profile_link_color=u'F5ABB5', profile_image_url=u'http://pbs.twimg.com/profile_images/553309473935470593/WHlGqlHt_normal.jpeg', notifications=False, favourites_count=1765, profile_background_image_url_https=u'https://abs.twimg.com/images/themes/theme1/bg.png', profile_banner_url=u'https://pbs.twimg.com/profile_banners/1700125753/1416865240', profile_background_image_url=u'http://abs.twimg.com/images/themes/theme1/bg.png', screen_name=u'CeciliaGrahn1', is_translation_enabled=False, profile_background_tile=False, profile_text_color=u'000000', name=u'Cecilia Grahn', url=None, created_at=datetime.datetime(2013, 8, 25, 20, 28, 31), contributors_enabled=False, location=u'', profile_sidebar_border_color=u'000000', default_profile=False, following=False)"
       ]
      }
     ],
     "prompt_number": 61
    },
    {
     "cell_type": "code",
     "collapsed": true,
     "input": [
      "f = tweepy.Cursor(api.followers,d[user.id])\n",
      "followers = [];\n",
      "for user in f.items():\n",
      "    followers.append(tweet)"
     ],
     "language": "python",
     "metadata": {},
     "outputs": [
      {
       "ename": "NameError",
       "evalue": "name 'user' is not defined",
       "output_type": "pyerr",
       "traceback": [
        "\u001b[0;31m---------------------------------------------------------------------------\u001b[0m\n\u001b[0;31mNameError\u001b[0m                                 Traceback (most recent call last)",
        "\u001b[0;32m<ipython-input-132-378369f86938>\u001b[0m in \u001b[0;36m<module>\u001b[0;34m()\u001b[0m\n\u001b[0;32m----> 1\u001b[0;31m \u001b[0mf\u001b[0m \u001b[0;34m=\u001b[0m \u001b[0mtweepy\u001b[0m\u001b[0;34m.\u001b[0m\u001b[0mCursor\u001b[0m\u001b[0;34m(\u001b[0m\u001b[0mapi\u001b[0m\u001b[0;34m.\u001b[0m\u001b[0mfollowers\u001b[0m\u001b[0;34m,\u001b[0m\u001b[0md\u001b[0m\u001b[0;34m[\u001b[0m\u001b[0muser\u001b[0m\u001b[0;34m.\u001b[0m\u001b[0mid\u001b[0m\u001b[0;34m]\u001b[0m\u001b[0;34m)\u001b[0m\u001b[0;34m\u001b[0m\u001b[0m\n\u001b[0m\u001b[1;32m      2\u001b[0m \u001b[0mfollowers\u001b[0m \u001b[0;34m=\u001b[0m \u001b[0;34m[\u001b[0m\u001b[0;34m]\u001b[0m\u001b[0;34m;\u001b[0m\u001b[0;34m\u001b[0m\u001b[0m\n\u001b[1;32m      3\u001b[0m \u001b[0;32mfor\u001b[0m \u001b[0muser\u001b[0m \u001b[0;32min\u001b[0m \u001b[0mf\u001b[0m\u001b[0;34m.\u001b[0m\u001b[0mitems\u001b[0m\u001b[0;34m(\u001b[0m\u001b[0;34m)\u001b[0m\u001b[0;34m:\u001b[0m\u001b[0;34m\u001b[0m\u001b[0m\n\u001b[1;32m      4\u001b[0m     \u001b[0mfollowers\u001b[0m\u001b[0;34m.\u001b[0m\u001b[0mappend\u001b[0m\u001b[0;34m(\u001b[0m\u001b[0mtweet\u001b[0m\u001b[0;34m)\u001b[0m\u001b[0;34m\u001b[0m\u001b[0m\n",
        "\u001b[0;31mNameError\u001b[0m: name 'user' is not defined"
       ]
      }
     ],
     "prompt_number": 132
    },
    {
     "cell_type": "code",
     "collapsed": true,
     "input": [
      "?api.search"
     ],
     "language": "python",
     "metadata": {},
     "outputs": [],
     "prompt_number": 129
    }
   ],
   "metadata": {}
  }
 ]
}